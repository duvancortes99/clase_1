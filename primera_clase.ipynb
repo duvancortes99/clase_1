{
 "cells": [
  {
   "cell_type": "code",
   "execution_count": 1,
   "metadata": {},
   "outputs": [
    {
     "name": "stdout",
     "output_type": "stream",
     "text": [
      "hola mundo\n"
     ]
    }
   ],
   "source": [
    "print (\"hola mundo\")"
   ]
  },
  {
   "cell_type": "code",
   "execution_count": 3,
   "metadata": {},
   "outputs": [
    {
     "ename": "SyntaxError",
     "evalue": "invalid syntax (<ipython-input-3-482c31a8c892>, line 7)",
     "output_type": "error",
     "traceback": [
      "\u001b[1;36m  File \u001b[1;32m\"<ipython-input-3-482c31a8c892>\"\u001b[1;36m, line \u001b[1;32m7\u001b[0m\n\u001b[1;33m    if edad >=18;\u001b[0m\n\u001b[1;37m                ^\u001b[0m\n\u001b[1;31mSyntaxError\u001b[0m\u001b[1;31m:\u001b[0m invalid syntax\n"
     ]
    }
   ],
   "source": []
  },
  {
   "cell_type": "code",
   "execution_count": 5,
   "metadata": {},
   "outputs": [
    {
     "ename": "SyntaxError",
     "evalue": "invalid syntax (<ipython-input-5-a9b6195aec0f>, line 7)",
     "output_type": "error",
     "traceback": [
      "\u001b[1;36m  File \u001b[1;32m\"<ipython-input-5-a9b6195aec0f>\"\u001b[1;36m, line \u001b[1;32m7\u001b[0m\n\u001b[1;33m    if edad >=18;\u001b[0m\n\u001b[1;37m                ^\u001b[0m\n\u001b[1;31mSyntaxError\u001b[0m\u001b[1;31m:\u001b[0m invalid syntax\n"
     ]
    }
   ],
   "source": [
    "#ejercicio 1\n",
    "\n",
    "#programa de ver si puede tomar de cervesa forma logica\n",
    "\n",
    "edad=21\n",
    "\n",
    "if edad >=18;\n",
    "\n",
    "  print(\"puede tomar cerveza\")\n",
    "\n",
    "else:\n",
    "    print(\"no puede tomar cerveza\") \n",
    "    "
   ]
  },
  {
   "cell_type": "code",
   "execution_count": 6,
   "metadata": {},
   "outputs": [
    {
     "ename": "SyntaxError",
     "evalue": "invalid syntax (<ipython-input-6-c3ac0d385bda>, line 7)",
     "output_type": "error",
     "traceback": [
      "\u001b[1;36m  File \u001b[1;32m\"<ipython-input-6-c3ac0d385bda>\"\u001b[1;36m, line \u001b[1;32m7\u001b[0m\n\u001b[1;33m    if edad >=18;\u001b[0m\n\u001b[1;37m                ^\u001b[0m\n\u001b[1;31mSyntaxError\u001b[0m\u001b[1;31m:\u001b[0m invalid syntax\n"
     ]
    }
   ],
   "source": [
    "#ejercicio 1\n",
    "\n",
    "#programa de ver si puede tomar de cervesa forma logica\n",
    "\n",
    "edad=21\n",
    "\n",
    "if edad>=18;\n",
    "\n",
    "  print(\"puede tomar cerveza\")\n",
    "\n",
    "else:\n",
    "    print(\"no puede tomar cerveza\") "
   ]
  },
  {
   "cell_type": "code",
   "execution_count": 7,
   "metadata": {},
   "outputs": [
    {
     "ename": "SyntaxError",
     "evalue": "invalid syntax (<ipython-input-7-9738bf2781db>, line 6)",
     "output_type": "error",
     "traceback": [
      "\u001b[1;36m  File \u001b[1;32m\"<ipython-input-7-9738bf2781db>\"\u001b[1;36m, line \u001b[1;32m6\u001b[0m\n\u001b[1;33m    if edad>=18;\u001b[0m\n\u001b[1;37m               ^\u001b[0m\n\u001b[1;31mSyntaxError\u001b[0m\u001b[1;31m:\u001b[0m invalid syntax\n"
     ]
    }
   ],
   "source": [
    "#ejercicio 1\n",
    "\n",
    "#programa de ver si puede tomar de cervesa forma logica\n",
    "\n",
    "edad=21\n",
    "if edad>=18\n",
    "  print(\"puede tomar cerveza\")\n",
    "else:\n",
    "    print(\"no puede tomar cerveza\") "
   ]
  },
  {
   "cell_type": "code",
   "execution_count": 8,
   "metadata": {},
   "outputs": [
    {
     "ename": "SyntaxError",
     "evalue": "invalid syntax (<ipython-input-8-d14c7c7fa7b4>, line 6)",
     "output_type": "error",
     "traceback": [
      "\u001b[1;36m  File \u001b[1;32m\"<ipython-input-8-d14c7c7fa7b4>\"\u001b[1;36m, line \u001b[1;32m6\u001b[0m\n\u001b[1;33m    if edad>=18\u001b[0m\n\u001b[1;37m               ^\u001b[0m\n\u001b[1;31mSyntaxError\u001b[0m\u001b[1;31m:\u001b[0m invalid syntax\n"
     ]
    }
   ],
   "source": [
    "#ejercicio 1\n",
    "\n",
    "#programa de ver si puede tomar de cervesa forma logica\n",
    "\n",
    "edad=21\n",
    "if edad>=18:\n",
    "      print(\"puede tomar cerveza\")\n",
    "else:\n",
    "    print(\"no puede tomar cerveza\") \n",
    "    "
   ]
  },
  {
   "cell_type": "code",
   "execution_count": 9,
   "metadata": {},
   "outputs": [
    {
     "name": "stdout",
     "output_type": "stream",
     "text": [
      "puede tomar cerveza\n"
     ]
    }
   ],
   "source": [
    "#ejercicio 1\n",
    "\n",
    "#programa de ver si puede tomar de cervesa forma logica\n",
    "\n",
    "edad=21\n",
    "if edad>=18:\n",
    "      print(\"puede tomar cerveza\")\n",
    "else:\n",
    "    print(\"no puede tomar cerveza\") \n",
    "    "
   ]
  },
  {
   "cell_type": "code",
   "execution_count": 10,
   "metadata": {},
   "outputs": [
    {
     "name": "stdout",
     "output_type": "stream",
     "text": [
      "porfavor ingrese la edad19\n",
      "puede tomar cerveza\n"
     ]
    }
   ],
   "source": [
    "#ejercicio 2\n",
    "#ingresar la edad por teclado\n",
    "\n",
    "edad= int (input(\"porfavor ingrese la edad\"))\n",
    "if edad>=18:\n",
    "      print(\"puede tomar cerveza\")\n",
    "else:\n",
    "    print(\"no puede tomar cerveza\") \n"
   ]
  },
  {
   "cell_type": "code",
   "execution_count": 11,
   "metadata": {},
   "outputs": [],
   "source": [
    "#ejercicio 3\n",
    "# mediante una funcion\n",
    "def ejercicio1(edad):\n",
    "    if edad>=18:\n",
    "          print(\"puede tomar cerveza\")\n",
    "    else:\n",
    "          print(\"no puede tomar cerveza\") \n",
    "\n",
    "    "
   ]
  },
  {
   "cell_type": "code",
   "execution_count": 12,
   "metadata": {},
   "outputs": [
    {
     "name": "stdout",
     "output_type": "stream",
     "text": [
      "no puede tomar cerveza\n"
     ]
    }
   ],
   "source": [
    "ejercicio1(17)# traer un programa "
   ]
  },
  {
   "cell_type": "code",
   "execution_count": 13,
   "metadata": {},
   "outputs": [
    {
     "ename": "NameError",
     "evalue": "name 'ejercicio' is not defined",
     "output_type": "error",
     "traceback": [
      "\u001b[1;31m---------------------------------------------------------------------------\u001b[0m",
      "\u001b[1;31mNameError\u001b[0m                                 Traceback (most recent call last)",
      "\u001b[1;32m<ipython-input-13-53af060feecf>\u001b[0m in \u001b[0;36m<module>\u001b[1;34m\u001b[0m\n\u001b[1;32m----> 1\u001b[1;33m \u001b[0mejercicio\u001b[0m\u001b[1;33m(\u001b[0m\u001b[1;36m18\u001b[0m\u001b[1;33m)\u001b[0m\u001b[1;33m\u001b[0m\u001b[1;33m\u001b[0m\u001b[0m\n\u001b[0m",
      "\u001b[1;31mNameError\u001b[0m: name 'ejercicio' is not defined"
     ]
    }
   ],
   "source": [
    "ejercicio(18)"
   ]
  },
  {
   "cell_type": "code",
   "execution_count": 14,
   "metadata": {},
   "outputs": [
    {
     "name": "stdout",
     "output_type": "stream",
     "text": [
      "puede tomar cerveza\n"
     ]
    }
   ],
   "source": [
    "ejercicio1(18)"
   ]
  },
  {
   "cell_type": "code",
   "execution_count": 15,
   "metadata": {},
   "outputs": [
    {
     "name": "stdout",
     "output_type": "stream",
     "text": [
      "ingrese la edad18\n",
      "puede tomar cerveza\n"
     ]
    }
   ],
   "source": [
    "ejercicio1(int(input(\"ingrese la edad\"))) #traer un programa y correrlo ademas se le agrega la direccion al usuario de pedir la edad\n"
   ]
  },
  {
   "cell_type": "code",
   "execution_count": 16,
   "metadata": {},
   "outputs": [
    {
     "name": "stdout",
     "output_type": "stream",
     "text": [
      "compro budweiser\n"
     ]
    }
   ],
   "source": [
    "#ejercicio 4 eleccion de compra de cerveza\n",
    "#procesar la forma de interpretar mayusculas y minusculas\n",
    "marca = \"Aguila\"\n",
    "\n",
    "if marca.lower() == \"budweiser\": # .lower comvertir \n",
    "    print (\"compro\",marca) # se recomienda utilizar de esta forma \n",
    "    #print (\"compro\" + marca) esta tambien es una forma \n",
    "elif marca.lower() == \"aguila\":\n",
    "    print (\"compro\", marca)\n",
    "else:\n",
    "    print (\"no compro nada\")"
   ]
  },
  {
   "cell_type": "code",
   "execution_count": 17,
   "metadata": {},
   "outputs": [
    {
     "name": "stdout",
     "output_type": "stream",
     "text": [
      "compro Aguila\n"
     ]
    }
   ],
   "source": [
    "#ejercicio 4 eleccion de compra de cerveza\n",
    "#procesar la forma de interpretar mayusculas y minusculas\n",
    "marca = \"Aguila\"\n",
    "\n",
    "if marca.lower() == \"budweiser\": # .lower comvertir \n",
    "    print (\"compro\",marca) # se recomienda utilizar de esta forma \n",
    "    #print (\"compro\" + marca) esta tambien es una forma \n",
    "elif marca.lower() == \"aguila\":\n",
    "    print (\"compro\", marca)\n",
    "else:\n",
    "    print (\"no compro nada\")"
   ]
  },
  {
   "cell_type": "code",
   "execution_count": 18,
   "metadata": {},
   "outputs": [
    {
     "ename": "NameError",
     "evalue": "name 'intput' is not defined",
     "output_type": "error",
     "traceback": [
      "\u001b[1;31m---------------------------------------------------------------------------\u001b[0m",
      "\u001b[1;31mNameError\u001b[0m                                 Traceback (most recent call last)",
      "\u001b[1;32m<ipython-input-18-eff4bf0eede6>\u001b[0m in \u001b[0;36m<module>\u001b[1;34m\u001b[0m\n\u001b[0;32m      1\u001b[0m \u001b[1;31m#ejercicio 5 eleccion de compra de cerveza con lectura de la marca por teclado\u001b[0m\u001b[1;33m\u001b[0m\u001b[1;33m\u001b[0m\u001b[1;33m\u001b[0m\u001b[0m\n\u001b[0;32m      2\u001b[0m \u001b[1;33m\u001b[0m\u001b[0m\n\u001b[1;32m----> 3\u001b[1;33m \u001b[0mmarca\u001b[0m \u001b[1;33m=\u001b[0m \u001b[0mintput\u001b[0m\u001b[1;33m(\u001b[0m\u001b[1;34m\"ingrese la marca:\"\u001b[0m\u001b[1;33m)\u001b[0m\u001b[1;33m\u001b[0m\u001b[1;33m\u001b[0m\u001b[0m\n\u001b[0m\u001b[0;32m      4\u001b[0m \u001b[1;33m\u001b[0m\u001b[0m\n\u001b[0;32m      5\u001b[0m \u001b[1;32mif\u001b[0m \u001b[0mmarca\u001b[0m\u001b[1;33m.\u001b[0m\u001b[0mlower\u001b[0m\u001b[1;33m(\u001b[0m\u001b[1;33m)\u001b[0m \u001b[1;33m==\u001b[0m \u001b[1;34m\"budweiser\"\u001b[0m\u001b[1;33m:\u001b[0m \u001b[1;31m# .lower comvertir\u001b[0m\u001b[1;33m\u001b[0m\u001b[1;33m\u001b[0m\u001b[0m\n",
      "\u001b[1;31mNameError\u001b[0m: name 'intput' is not defined"
     ]
    }
   ],
   "source": [
    "#ejercicio 5 eleccion de compra de cerveza con lectura de la marca por teclado\n",
    "\n",
    "marca = input(\"ingrese la marca:\")\n",
    "\n",
    "if marca.lower() == \"budweiser\": # .lower comvertir \n",
    "    print (\"compro\",marca) # se recomienda utilizar de esta forma \n",
    "    #print (\"compro\" + marca) esta tambien es una forma \n",
    "elif marca.lower() == \"aguila\":\n",
    "    print (\"compro\", marca)\n",
    "else:\n",
    "    print (\"no compro nada\")"
   ]
  },
  {
   "cell_type": "code",
   "execution_count": 19,
   "metadata": {},
   "outputs": [
    {
     "name": "stdout",
     "output_type": "stream",
     "text": [
      "ingrese la marca:\n",
      "no compro nada\n"
     ]
    }
   ],
   "source": [
    "#ejercicio 5 eleccion de compra de cerveza con lectura de la marca por teclado\n",
    "\n",
    "marca = input(\"ingrese la marca:\")\n",
    "\n",
    "if marca.lower() == \"budweiser\": # .lower comvertir \n",
    "    print (\"compro\",marca) # se recomienda utilizar de esta forma \n",
    "    #print (\"compro\" + marca) esta tambien es una forma \n",
    "elif marca.lower() == \"aguila\":\n",
    "    print (\"compro\", marca)\n",
    "else:\n",
    "    print (\"no compro nada\")"
   ]
  },
  {
   "cell_type": "code",
   "execution_count": 20,
   "metadata": {},
   "outputs": [
    {
     "name": "stdout",
     "output_type": "stream",
     "text": [
      "ingrese la marca:aguiLa\n",
      "compro aguiLa\n"
     ]
    }
   ],
   "source": [
    "#ejercicio 5 eleccion de compra de cerveza con lectura de la marca por teclado\n",
    "\n",
    "marca = input(\"ingrese la marca:\")\n",
    "\n",
    "if marca.lower() == \"budweiser\": # .lower comvertir \n",
    "    print (\"compro\",marca) # se recomienda utilizar de esta forma \n",
    "    #print (\"compro\" + marca) esta tambien es una forma \n",
    "elif marca.lower() == \"aguila\":\n",
    "    print (\"compro\", marca)\n",
    "else:\n",
    "    print (\"no compro nada\")"
   ]
  },
  {
   "cell_type": "code",
   "execution_count": 21,
   "metadata": {},
   "outputs": [],
   "source": [
    "#ejercicio 6 funcion de cerveza\n",
    "\n",
    "def compra():\n",
    "    marca = input(\"ingrese la marca:\")\n",
    "\n",
    "    if marca.lower() == \"budweiser\": # .lower comvertir \n",
    "        print (\"compro\",marca) # se recomienda utilizar de esta forma \n",
    "        #print (\"compro\" + marca) esta tambien es una forma \n",
    "    elif marca.lower() == \"aguila\":\n",
    "        print (\"compro\", marca)\n",
    "    else:\n",
    "        print (\"no compro nada\")"
   ]
  },
  {
   "cell_type": "code",
   "execution_count": 22,
   "metadata": {},
   "outputs": [
    {
     "name": "stdout",
     "output_type": "stream",
     "text": [
      "ingrese la marca:poker\n",
      "no compro nada\n"
     ]
    }
   ],
   "source": [
    "compra()"
   ]
  },
  {
   "cell_type": "code",
   "execution_count": 23,
   "metadata": {},
   "outputs": [
    {
     "name": "stdout",
     "output_type": "stream",
     "text": [
      "ingrese la marca:aGuila\n",
      "compro aGuila\n"
     ]
    }
   ],
   "source": [
    "compra()"
   ]
  },
  {
   "cell_type": "code",
   "execution_count": 24,
   "metadata": {},
   "outputs": [
    {
     "name": "stdout",
     "output_type": "stream",
     "text": [
      "ingrese la marca:budweiser\n",
      "compro budweiser\n"
     ]
    }
   ],
   "source": [
    "compra()"
   ]
  },
  {
   "cell_type": "code",
   "execution_count": null,
   "metadata": {},
   "outputs": [],
   "source": []
  }
 ],
 "metadata": {
  "kernelspec": {
   "display_name": "Python 3",
   "language": "python",
   "name": "python3"
  },
  "language_info": {
   "codemirror_mode": {
    "name": "ipython",
    "version": 3
   },
   "file_extension": ".py",
   "mimetype": "text/x-python",
   "name": "python",
   "nbconvert_exporter": "python",
   "pygments_lexer": "ipython3",
   "version": "3.8.5"
  }
 },
 "nbformat": 4,
 "nbformat_minor": 4
}
